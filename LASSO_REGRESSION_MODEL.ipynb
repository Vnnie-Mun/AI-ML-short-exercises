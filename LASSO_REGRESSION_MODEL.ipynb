{
  "nbformat": 4,
  "nbformat_minor": 0,
  "metadata": {
    "colab": {
      "provenance": [],
      "authorship_tag": "ABX9TyMzPhcwBdylSV08mYaxf3Bf",
      "include_colab_link": true
    },
    "kernelspec": {
      "name": "python3",
      "display_name": "Python 3"
    },
    "language_info": {
      "name": "python"
    }
  },
  "cells": [
    {
      "cell_type": "markdown",
      "metadata": {
        "id": "view-in-github",
        "colab_type": "text"
      },
      "source": [
        "<a href=\"https://colab.research.google.com/github/Vnnie-Mun/AI-ML-short-exercises/blob/main/LASSO_REGRESSION_MODEL.ipynb\" target=\"_parent\"><img src=\"https://colab.research.google.com/assets/colab-badge.svg\" alt=\"Open In Colab\"/></a>"
      ]
    },
    {
      "cell_type": "code",
      "source": [
        "import numpy as np"
      ],
      "metadata": {
        "id": "OsbKH0wlG6_S"
      },
      "execution_count": 7,
      "outputs": []
    },
    {
      "cell_type": "code",
      "execution_count": 8,
      "metadata": {
        "id": "wuPX6PIAdID1"
      },
      "outputs": [],
      "source": [
        "#ceating a class for lasso regression\n",
        "class Lasso_Regression():\n",
        "\n",
        "  #initiating the hyperparameters\n",
        "  def __init__(self,learning_rate,no_of_iterations,lambda_parameters):\n",
        "    self.learning_rate = learning_rate\n",
        "    self.no_of_iterations = no_of_iterations\n",
        "    self.lambda_parameters = lambda_parameters\n",
        "\n",
        "  #fitting the dataset to the lasso regression model\n",
        "  def fit(self,X,Y):\n",
        "    self.m,self.n=X.shape\n",
        "    self.w=np.zeros(self.n)\n",
        "    self.b=0\n",
        "    self.X=X\n",
        "    self.Y=Y\n",
        "\n",
        "    #implementing gradient descent algorithm\n",
        "    for i in range(self.no_of_iterations):\n",
        "      self.update_weight()\n",
        "\n",
        "\n",
        "\n",
        "  #function for updating the bais and weight value\n",
        "  def update_weight(self,):\n",
        "\n",
        "    #linear equation of the model\n",
        "    Y_prediction=self.predict(self.X)\n",
        "\n",
        "    #gradient (dw,db)\n",
        "    dw = np.zeros(self.n) # Initialize dw\n",
        "    for i in range (self.n):\n",
        "      if self.w[i]>0:\n",
        "        dw[i]=(-(2*(self.X[:,i].dot(self.Y-Y_prediction)))+self.lambda_parameters)/self.m\n",
        "\n",
        "      else:\n",
        "        dw[i]=(-(2*(self.X[:,i].dot(self.Y-Y_prediction)))-self.lambda_parameters)/self.m\n",
        "\n",
        "    db=-2*np.sum(self.Y-Y_prediction)/self.m\n",
        "\n",
        "\n",
        "    #updating the waight and bias values\n",
        "\n",
        "    self.w=self.w-self.learning_rate*dw\n",
        "    self.b=self.b-self.learning_rate*db\n",
        "\n",
        "\n",
        "  #predicting the target values\n",
        "  def predict(self,X): # Added X parameter here\n",
        "    return X.dot(self.w)+self.b"
      ]
    },
    {
      "cell_type": "code",
      "source": [],
      "metadata": {
        "id": "EW0_1LGUTBWw"
      },
      "execution_count": 8,
      "outputs": []
    }
  ]
}