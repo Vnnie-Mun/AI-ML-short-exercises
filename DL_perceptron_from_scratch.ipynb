{
  "nbformat": 4,
  "nbformat_minor": 0,
  "metadata": {
    "colab": {
      "provenance": [],
      "authorship_tag": "ABX9TyMi0heHsRROoNXwRl0ZI3VN",
      "include_colab_link": true
    },
    "kernelspec": {
      "name": "python3",
      "display_name": "Python 3"
    },
    "language_info": {
      "name": "python"
    }
  },
  "cells": [
    {
      "cell_type": "markdown",
      "metadata": {
        "id": "view-in-github",
        "colab_type": "text"
      },
      "source": [
        "<a href=\"https://colab.research.google.com/github/Vnnie-Mun/AI-ML_full-projects_repository/blob/main/DL_perceptron_from_scratch.ipynb\" target=\"_parent\"><img src=\"https://colab.research.google.com/assets/colab-badge.svg\" alt=\"Open In Colab\"/></a>"
      ]
    },
    {
      "cell_type": "code",
      "execution_count": null,
      "metadata": {
        "id": "mKi0KBKc_B-c"
      },
      "outputs": [],
      "source": [
        "import numpy as np\n"
      ]
    },
    {
      "cell_type": "markdown",
      "source": [
        "sigmoid Perceptron class"
      ],
      "metadata": {
        "id": "gaE9owJA_xtT"
      }
    },
    {
      "cell_type": "code",
      "source": [
        "class SigmoidPeceptron():\n",
        "\n",
        "  def __init__(self, input_size):\n",
        "    self.weights = np.random.randn(input_size)\n",
        "    self.bias = np.random.randn(1)\n",
        "\n",
        "  def sigmoid(self, z):\n",
        "    return 1/(1 + np.exp(-z))\n",
        "\n",
        "  def predict(self):\n",
        "    wieghted_sum = np.dot(inputs, self.weights) + self.bais\n",
        "    return self.sigmoid(weighted_sum)\n",
        "\n",
        "  def fit(self, input, targets, learning_rate, num_epochs):\n",
        "    num_examples = inputs.shape[0]\n",
        "\n",
        "    for epoch in range(num_epochs):\n",
        "\n",
        "      for i in range(num_examples):\n",
        "        input_vector = input[i]\n",
        "\n",
        "        prediction = self.predict(input_vector)\n",
        "\n",
        "        error = target - prediction\n",
        "\n",
        "        #update weights\n",
        "        gradient_weights = error * prediction * (1 - prediction) * input_vector\n",
        "        self.weights += learning_rate * gradient_weights\n",
        "\n",
        "        #update bias\n",
        "        gradient_bias = error * prediction * (1 - prediction)\n",
        "        self.bias += learning_rate * gradient_bias\n",
        "\n",
        "  def evaluate(self, inputs ,targets):\n",
        "\n",
        "    correct = 0\n",
        "\n",
        "    for input_vector, target in zip(input, targets):\n",
        "      predict = self.predict(input_vector)\n",
        "\n",
        "      if predict >= 0.5:\n",
        "        predicted_class = 1\n",
        "      else:\n",
        "        predicted_class = 0\n",
        "\n",
        "      if predicted_class == target:\n",
        "        correct += 1\n",
        "\n",
        "    accuracy = correct / len(inputs)\n",
        "    return accuracy"
      ],
      "metadata": {
        "id": "C2HgSUrl_wtm"
      },
      "execution_count": 4,
      "outputs": []
    },
    {
      "cell_type": "code",
      "source": [],
      "metadata": {
        "id": "KJsLaIIOP2Vw"
      },
      "execution_count": null,
      "outputs": []
    },
    {
      "cell_type": "code",
      "source": [],
      "metadata": {
        "id": "S2UorM4JQBgh"
      },
      "execution_count": null,
      "outputs": []
    }
  ]
}