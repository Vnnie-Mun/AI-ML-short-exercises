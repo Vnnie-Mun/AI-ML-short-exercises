{
  "nbformat": 4,
  "nbformat_minor": 0,
  "metadata": {
    "colab": {
      "provenance": [],
      "gpuType": "T4",
      "authorship_tag": "ABX9TyMAzY5O2xhXdIXAaf+1yq3i",
      "include_colab_link": true
    },
    "kernelspec": {
      "name": "python3",
      "display_name": "Python 3"
    },
    "language_info": {
      "name": "python"
    },
    "accelerator": "GPU"
  },
  "cells": [
    {
      "cell_type": "markdown",
      "metadata": {
        "id": "view-in-github",
        "colab_type": "text"
      },
      "source": [
        "<a href=\"https://colab.research.google.com/github/Vnnie-Mun/AI-ML_full-projects_repository/blob/main/DL_project_Neural_Network_using_pytorch.ipynb\" target=\"_parent\"><img src=\"https://colab.research.google.com/assets/colab-badge.svg\" alt=\"Open In Colab\"/></a>"
      ]
    },
    {
      "cell_type": "markdown",
      "source": [
        "Importing the dependancies"
      ],
      "metadata": {
        "id": "ZqU0NxWKVqFZ"
      }
    },
    {
      "cell_type": "code",
      "execution_count": 2,
      "metadata": {
        "id": "0A1G5B6S4txA"
      },
      "outputs": [],
      "source": [
        "import torch\n",
        "import torch.nn as nn\n",
        "import torch.optim as optim\n",
        "from sklearn.datasets import load_breast_cancer\n",
        "from sklearn.preprocessing import StandardScaler\n",
        "from sklearn.model_selection import train_test_split"
      ]
    },
    {
      "cell_type": "markdown",
      "source": [
        "Device Configuration"
      ],
      "metadata": {
        "id": "hqbnirwqWGyt"
      }
    },
    {
      "cell_type": "code",
      "source": [
        "#check for CUDA availability\n",
        "device = torch.device(\"cuda\" if torch.cuda.is_available() else \"cpu\")\n",
        "print(f\"Using device: {device}\")"
      ],
      "metadata": {
        "colab": {
          "base_uri": "https://localhost:8080/"
        },
        "id": "7341Hq5lWFl2",
        "outputId": "5a5ddc6c-ec4a-4ef7-eae6-d8df91ae5ad9"
      },
      "execution_count": 3,
      "outputs": [
        {
          "output_type": "stream",
          "name": "stdout",
          "text": [
            "Using device: cuda\n"
          ]
        }
      ]
    },
    {
      "cell_type": "markdown",
      "source": [
        "Data collection and pre-processing"
      ],
      "metadata": {
        "id": "E2dmHoDRY4H8"
      }
    },
    {
      "cell_type": "code",
      "source": [
        "#load the breast cancer dataset\n",
        "data = load_breast_cancer()\n",
        "X = data.data\n",
        "y = data.target\n"
      ],
      "metadata": {
        "id": "GSPB6AbjWxsb"
      },
      "execution_count": 12,
      "outputs": []
    },
    {
      "cell_type": "code",
      "source": [
        "print(X)"
      ],
      "metadata": {
        "colab": {
          "base_uri": "https://localhost:8080/"
        },
        "id": "eBjUeMJDZVK2",
        "outputId": "c9a6c0f5-8917-4cfc-fc2b-b2b285686142"
      },
      "execution_count": 5,
      "outputs": [
        {
          "output_type": "stream",
          "name": "stdout",
          "text": [
            "[[1.799e+01 1.038e+01 1.228e+02 ... 2.654e-01 4.601e-01 1.189e-01]\n",
            " [2.057e+01 1.777e+01 1.329e+02 ... 1.860e-01 2.750e-01 8.902e-02]\n",
            " [1.969e+01 2.125e+01 1.300e+02 ... 2.430e-01 3.613e-01 8.758e-02]\n",
            " ...\n",
            " [1.660e+01 2.808e+01 1.083e+02 ... 1.418e-01 2.218e-01 7.820e-02]\n",
            " [2.060e+01 2.933e+01 1.401e+02 ... 2.650e-01 4.087e-01 1.240e-01]\n",
            " [7.760e+00 2.454e+01 4.792e+01 ... 0.000e+00 2.871e-01 7.039e-02]]\n"
          ]
        }
      ]
    },
    {
      "cell_type": "code",
      "source": [
        "print(y[:5])"
      ],
      "metadata": {
        "colab": {
          "base_uri": "https://localhost:8080/"
        },
        "id": "nBYJazemZl-v",
        "outputId": "76cecbc8-742c-434e-817c-8e673396c025"
      },
      "execution_count": 13,
      "outputs": [
        {
          "output_type": "stream",
          "name": "stdout",
          "text": [
            "[0 0 0 0 0]\n"
          ]
        }
      ]
    },
    {
      "cell_type": "code",
      "source": [
        "#split the dataset into training and test dataset\n",
        "X_train, X_test, y_train, y_test = train_test_split(X, y, test_size = 0.2,random_state=42)"
      ],
      "metadata": {
        "id": "poBNg4VyZqJ0"
      },
      "execution_count": 14,
      "outputs": []
    },
    {
      "cell_type": "code",
      "source": [
        "print(X.shape)\n",
        "print(X_train.shape)\n",
        "print(X_test.shape)"
      ],
      "metadata": {
        "colab": {
          "base_uri": "https://localhost:8080/"
        },
        "id": "PrmpCXxFaKtx",
        "outputId": "bd255cd6-934a-4913-859c-413c4277398c"
      },
      "execution_count": 16,
      "outputs": [
        {
          "output_type": "stream",
          "name": "stdout",
          "text": [
            "(569, 30)\n",
            "(455, 30)\n",
            "(114, 30)\n"
          ]
        }
      ]
    },
    {
      "cell_type": "code",
      "source": [
        "#standardize the data using the standard Scaler\n",
        "\n",
        "scaler = StandardScaler()\n",
        "\n",
        "x_train = scaler.fit_transform(X_train)\n",
        "X_test = scaler.transform(X_test)"
      ],
      "metadata": {
        "id": "KKFvtEXia6Jk"
      },
      "execution_count": 17,
      "outputs": []
    },
    {
      "cell_type": "code",
      "source": [
        "type(X_train)"
      ],
      "metadata": {
        "colab": {
          "base_uri": "https://localhost:8080/"
        },
        "id": "eQgxY6GubfXv",
        "outputId": "d092419f-15d9-4862-d0e1-c491eb6a48d1"
      },
      "execution_count": 18,
      "outputs": [
        {
          "output_type": "execute_result",
          "data": {
            "text/plain": [
              "numpy.ndarray"
            ]
          },
          "metadata": {},
          "execution_count": 18
        }
      ]
    },
    {
      "cell_type": "code",
      "source": [
        "#convert data to pytorch rensors and move it to GPU\n",
        "X_train = torch.tensor(X_train, dtype= torch.float32).to(device)\n",
        "X_test = torch.tensor(X_test, dtype= torch.float32).to(device)\n",
        "y_train = torch.tensor(y_train, dtype= torch.float32).to(device)\n",
        "y_test = torch.tensor(y_test, dtype= torch.float32).to(device)\n"
      ],
      "metadata": {
        "id": "m5pyXroBbjYZ"
      },
      "execution_count": 19,
      "outputs": []
    },
    {
      "cell_type": "markdown",
      "source": [
        "Neural Network architecture\n",
        "\n"
      ],
      "metadata": {
        "id": "fhZF_vNFeRno"
      }
    },
    {
      "cell_type": "code",
      "source": [
        "#define the neural network architecture\n",
        "\n",
        "class NeuralNet(nn.Module):\n",
        "\n",
        "  def __init__(self, input_size, hidden_size, output_size):\n",
        "    super(NeuralNet, self).__init__()\n",
        "    self.fc1 = nn.Linear(input_size, hidden_size)\n",
        "    self.relu = nn.ReLU()\n",
        "    self.fc2 = nn.Linear(hidden_size, output_size)\n",
        "    self.sigmoid = nn.Sigmoid()\n",
        "\n",
        "  def forward(self, x):\n",
        "    out = self.fc1(x)\n",
        "    out = self.relu(out)\n",
        "    out = self.fc2(out)\n",
        "    out = self.sigmoid(out)\n",
        "    return out\n",
        "\n",
        "\n"
      ],
      "metadata": {
        "id": "cccXoJEQdYSa"
      },
      "execution_count": 23,
      "outputs": []
    },
    {
      "cell_type": "markdown",
      "source": [
        "Defining the hyper parameters"
      ],
      "metadata": {
        "id": "U9zKm5ImlVcm"
      }
    },
    {
      "cell_type": "code",
      "source": [
        "input_size=  X_train.shape[1]\n",
        "hidden_size = 64\n",
        "output_size = 1\n",
        "learning_rate =0.001\n",
        "num_epochs = 100"
      ],
      "metadata": {
        "id": "2gC_kIkpkCDf"
      },
      "execution_count": 27,
      "outputs": []
    },
    {
      "cell_type": "code",
      "source": [
        "#initialize the neural network and move it the GPU\n",
        "model = NeuralNet(input_size, hidden_size, output_size).to(device)"
      ],
      "metadata": {
        "id": "u0oQ0vhQg-xJ"
      },
      "execution_count": 28,
      "outputs": []
    },
    {
      "cell_type": "code",
      "source": [
        "#define the loss and the optimizer\n",
        "criterion = nn.BCELoss()\n",
        "optimizer = optim.Adam(model.parameters(), lr=learning_rate)"
      ],
      "metadata": {
        "id": "la_J1C8imhEu"
      },
      "execution_count": 31,
      "outputs": []
    },
    {
      "cell_type": "markdown",
      "source": [
        "Training the neural Network"
      ],
      "metadata": {
        "id": "oJ-fbiL9nCEe"
      }
    },
    {
      "cell_type": "code",
      "source": [
        "#training the model\n",
        "for epoch in range(num_epochs):\n",
        "  model.train()\n",
        "  optimizer.zero_grad()\n",
        "  outputs = model(X_train)\n",
        "  loss = criterion(outputs, y_train.view(-1,1))\n",
        "  loss.backward()\n",
        "  optimizer.step()\n",
        "\n",
        "  #calculate accuracy\n",
        "  with torch.no_grad():\n",
        "    predicted = outputs.round()\n",
        "    correct = (predicted == y_train.view(-1,1)).float().sum()\n",
        "    accuracy = correct / y_train.size(0)\n",
        "\n",
        "    if (epoch+1) % 10 == 0:\n",
        "      print(f\"Epoch [{epoch+1}/{num_epochs}],Loss :{loss.item():.4},Accuracy: {accuracy.item() * 100:.2f}%\")"
      ],
      "metadata": {
        "colab": {
          "base_uri": "https://localhost:8080/"
        },
        "id": "l-nyUlM5m7ZI",
        "outputId": "7614c940-e828-4c93-e45d-832c3d36ecdb"
      },
      "execution_count": 34,
      "outputs": [
        {
          "output_type": "stream",
          "name": "stdout",
          "text": [
            "Epoch [10/100],Loss :37.14,Accuracy: 62.86%\n",
            "Epoch [20/100],Loss :37.14,Accuracy: 62.86%\n",
            "Epoch [30/100],Loss :37.14,Accuracy: 62.86%\n",
            "Epoch [40/100],Loss :37.14,Accuracy: 62.86%\n",
            "Epoch [50/100],Loss :37.14,Accuracy: 62.86%\n",
            "Epoch [60/100],Loss :37.14,Accuracy: 62.86%\n",
            "Epoch [70/100],Loss :37.14,Accuracy: 62.86%\n",
            "Epoch [80/100],Loss :37.14,Accuracy: 62.86%\n",
            "Epoch [90/100],Loss :37.14,Accuracy: 62.86%\n",
            "Epoch [100/100],Loss :37.14,Accuracy: 62.86%\n"
          ]
        }
      ]
    },
    {
      "cell_type": "markdown",
      "source": [
        "Model Evaluation"
      ],
      "metadata": {
        "id": "5OxDORCwp1hA"
      }
    },
    {
      "cell_type": "code",
      "source": [
        "#evaluate the training set\n",
        "model.eval()\n",
        "with torch.no_grad():\n",
        "  outputs = model(X_train)\n",
        "  predicted = outputs.round()\n",
        "  correct= (predicted == y_train.view(-1,1)).float().sum()\n",
        "  accuracy = correct/y_train.size(0)\n",
        "  print(f\"Accuracy on test data:{accuracy.item() * 100:.2f}%\")"
      ],
      "metadata": {
        "colab": {
          "base_uri": "https://localhost:8080/"
        },
        "id": "7CJJxtPkoxH4",
        "outputId": "479a66ef-1af8-4783-b486-c5e6d2f353a1"
      },
      "execution_count": 35,
      "outputs": [
        {
          "output_type": "stream",
          "name": "stdout",
          "text": [
            "Accuracy on test data:62.86%\n"
          ]
        }
      ]
    },
    {
      "cell_type": "code",
      "source": [],
      "metadata": {
        "id": "7Roc1D3qrNud"
      },
      "execution_count": null,
      "outputs": []
    }
  ]
}